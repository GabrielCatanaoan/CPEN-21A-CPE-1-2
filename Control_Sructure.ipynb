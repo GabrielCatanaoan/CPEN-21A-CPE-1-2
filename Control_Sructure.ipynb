{
  "nbformat": 4,
  "nbformat_minor": 0,
  "metadata": {
    "colab": {
      "name": "Control Sructure.ipynb",
      "provenance": [],
      "authorship_tag": "ABX9TyOgUlVSVTlZWijrhQAFfgz6",
      "include_colab_link": true
    },
    "kernelspec": {
      "name": "python3",
      "display_name": "Python 3"
    },
    "language_info": {
      "name": "python"
    }
  },
  "cells": [
    {
      "cell_type": "markdown",
      "metadata": {
        "id": "view-in-github",
        "colab_type": "text"
      },
      "source": [
        "<a href=\"https://colab.research.google.com/github/GabrielCatanaoan/CPEN-21A-CPE-1-2/blob/main/Control_Sructure.ipynb\" target=\"_parent\"><img src=\"https://colab.research.google.com/assets/colab-badge.svg\" alt=\"Open In Colab\"/></a>"
      ]
    },
    {
      "cell_type": "markdown",
      "metadata": {
        "id": "ocP_O13IH-NA"
      },
      "source": [
        "##If Statement\n"
      ]
    },
    {
      "cell_type": "code",
      "metadata": {
        "colab": {
          "base_uri": "https://localhost:8080/"
        },
        "id": "3cR7Gx7KIASv",
        "outputId": "8060517b-2e1d-4d2d-f3c8-87766099fe77"
      },
      "source": [
        "a=12\n",
        "b=100\n",
        "\n",
        "if b>a:\n",
        "  print('b is greater than a')"
      ],
      "execution_count": 9,
      "outputs": [
        {
          "output_type": "stream",
          "name": "stdout",
          "text": [
            "b is greater than a\n"
          ]
        }
      ]
    },
    {
      "cell_type": "markdown",
      "metadata": {
        "id": "6Fbv-6HCISM3"
      },
      "source": [
        "##Elif Statement"
      ]
    },
    {
      "cell_type": "code",
      "metadata": {
        "colab": {
          "base_uri": "https://localhost:8080/"
        },
        "id": "LjVyHkoHIWh2",
        "outputId": "26893fd9-40f2-461c-8f06-82a6f2cdef6a"
      },
      "source": [
        "a=120\n",
        "b=100\n",
        "\n",
        "if b>a:\n",
        "  print('b is greater than a')\n",
        "elif a>b:\n",
        "  print('a is greater than b')"
      ],
      "execution_count": 6,
      "outputs": [
        {
          "output_type": "stream",
          "name": "stdout",
          "text": [
            "a is greater than b\n"
          ]
        }
      ]
    },
    {
      "cell_type": "markdown",
      "metadata": {
        "id": "LP-XQd8jIv6h"
      },
      "source": [
        "##Else Statement"
      ]
    },
    {
      "cell_type": "code",
      "metadata": {
        "colab": {
          "base_uri": "https://localhost:8080/"
        },
        "id": "YB3P5ZGNIzSy",
        "outputId": "0f7983ed-f302-4e16-c3aa-776bec4e2c0b"
      },
      "source": [
        "a=100\n",
        "b=100\n",
        "\n",
        "if b>a:\n",
        "  print('b is greater than a')\n",
        "elif a>b:\n",
        "  print('a is greater than b')\n",
        "else:\n",
        "  print('a is equal to b')"
      ],
      "execution_count": 7,
      "outputs": [
        {
          "output_type": "stream",
          "name": "stdout",
          "text": [
            "a is equal to b\n"
          ]
        }
      ]
    },
    {
      "cell_type": "markdown",
      "metadata": {
        "id": "VpaNpco9JxYa"
      },
      "source": [
        "##Short Hand Statement"
      ]
    },
    {
      "cell_type": "code",
      "metadata": {
        "colab": {
          "base_uri": "https://localhost:8080/"
        },
        "id": "pdyAwyo9J0fD",
        "outputId": "83453274-1770-4cea-fa18-4ecd298408e4"
      },
      "source": [
        "a=45\n",
        "b=30\n",
        "\n",
        "if a>b:print('a is greater than b')"
      ],
      "execution_count": 10,
      "outputs": [
        {
          "output_type": "stream",
          "name": "stdout",
          "text": [
            "a is greater than b\n"
          ]
        }
      ]
    },
    {
      "cell_type": "markdown",
      "metadata": {
        "id": "Fk_uLl-_J-JS"
      },
      "source": [
        "##Short Hand Else Statement"
      ]
    },
    {
      "cell_type": "code",
      "metadata": {
        "colab": {
          "base_uri": "https://localhost:8080/"
        },
        "id": "CdQ69zBCKCtr",
        "outputId": "2996b5a1-4a16-43db-a975-f640d029f372"
      },
      "source": [
        "a=30\n",
        "b=45\n",
        "\n",
        "print('a is greater than b')if a>b else print('b is greater than a')"
      ],
      "execution_count": 12,
      "outputs": [
        {
          "output_type": "stream",
          "name": "stdout",
          "text": [
            "b is greater than a\n"
          ]
        }
      ]
    },
    {
      "cell_type": "markdown",
      "metadata": {
        "id": "lK_mk-2sKkYu"
      },
      "source": [
        "##And-Logic Conditions"
      ]
    },
    {
      "cell_type": "code",
      "metadata": {
        "colab": {
          "base_uri": "https://localhost:8080/"
        },
        "id": "T6f_xJpILEYP",
        "outputId": "e97779d4-b329-47f1-f36c-3d2e0ab77e0c"
      },
      "source": [
        "x=7\n",
        "\n",
        "if x>5 and x>6:\n",
        "  print('Both conditions are True')"
      ],
      "execution_count": 13,
      "outputs": [
        {
          "output_type": "stream",
          "name": "stdout",
          "text": [
            "Both conditions are True\n"
          ]
        }
      ]
    },
    {
      "cell_type": "markdown",
      "metadata": {
        "id": "oq8sOcGGLXJK"
      },
      "source": [
        "##Or-Logic Conditions"
      ]
    },
    {
      "cell_type": "code",
      "metadata": {
        "colab": {
          "base_uri": "https://localhost:8080/"
        },
        "id": "oi8GMlZHLbQf",
        "outputId": "dcd6f136-ad07-41af-ffea-ce5ae1ae1aaa"
      },
      "source": [
        "x=21\n",
        "\n",
        "if x>18 or x<15:\n",
        "  print('True')\n",
        "else:\n",
        "  print('False')"
      ],
      "execution_count": 25,
      "outputs": [
        {
          "output_type": "stream",
          "name": "stdout",
          "text": [
            "True\n"
          ]
        }
      ]
    },
    {
      "cell_type": "markdown",
      "metadata": {
        "id": "nYxj7FCeL4bs"
      },
      "source": [
        "##Nested If"
      ]
    },
    {
      "cell_type": "code",
      "metadata": {
        "colab": {
          "base_uri": "https://localhost:8080/"
        },
        "id": "4yhC31HAL559",
        "outputId": "82b69091-1fd7-4302-b5ff-45f73b31ec64"
      },
      "source": [
        "if x>10:\n",
        "  print('Above 10')\n",
        "  if x>20:\n",
        "    print('Above 20')\n",
        "  else:\n",
        "    print('below 20')\n",
        "else:\n",
        "  print('less than 10')\n"
      ],
      "execution_count": 26,
      "outputs": [
        {
          "output_type": "stream",
          "name": "stdout",
          "text": [
            "Above 10\n",
            "Above 20\n"
          ]
        }
      ]
    },
    {
      "cell_type": "markdown",
      "metadata": {
        "id": "aTrVSoxxM5VZ"
      },
      "source": [
        "##Example 1"
      ]
    },
    {
      "cell_type": "code",
      "metadata": {
        "colab": {
          "base_uri": "https://localhost:8080/"
        },
        "id": "J-xD7upmM7Jx",
        "outputId": "7636cca8-2c21-4b52-9269-7af33c03b9ca"
      },
      "source": [
        "age=int(input(\"Enter your age:\"))\n",
        "\n",
        "if age>=18:\n",
        "  print('you are qualified to vote')\n",
        "else:\n",
        "  print('you are not qualified to vote')"
      ],
      "execution_count": 37,
      "outputs": [
        {
          "output_type": "stream",
          "name": "stdout",
          "text": [
            "Enter your age:19\n",
            "you are qualified to vote\n"
          ]
        }
      ]
    },
    {
      "cell_type": "markdown",
      "metadata": {
        "id": "NBqA8faHNwZ6"
      },
      "source": [
        "##Example 2"
      ]
    },
    {
      "cell_type": "code",
      "metadata": {
        "colab": {
          "base_uri": "https://localhost:8080/"
        },
        "id": "oPyF593INx7m",
        "outputId": "24480789-9a4d-4487-ea98-0b18ca9b7d70"
      },
      "source": [
        "number=float(input('Enter the number:'))\n",
        "\n",
        "if number==0:\n",
        "  print('Zero')\n",
        "elif number>0:\n",
        "  print('Positive')\n",
        "else:\n",
        "  print('Negative')"
      ],
      "execution_count": 47,
      "outputs": [
        {
          "output_type": "stream",
          "name": "stdout",
          "text": [
            "Enter the number:-86\n",
            "Negative\n"
          ]
        }
      ]
    },
    {
      "cell_type": "markdown",
      "metadata": {
        "id": "LI1tYEs5O5aj"
      },
      "source": [
        "##Example 3"
      ]
    },
    {
      "cell_type": "code",
      "metadata": {
        "colab": {
          "base_uri": "https://localhost:8080/"
        },
        "id": "hxvzu-N1PuWQ",
        "outputId": "ab9f5e25-fae9-4369-d086-11d873db3e74"
      },
      "source": [
        "grade=float(input('Grade:'))\n",
        "\n",
        "if grade>=75:\n",
        "  print('Passed')\n",
        "elif grade>=74 and grade<75:\n",
        "  print('Remedial')\n",
        "else:\n",
        "  print('Failed')"
      ],
      "execution_count": 65,
      "outputs": [
        {
          "output_type": "stream",
          "name": "stdout",
          "text": [
            "Grade:74.99\n",
            "Remedial\n"
          ]
        }
      ]
    }
  ]
}