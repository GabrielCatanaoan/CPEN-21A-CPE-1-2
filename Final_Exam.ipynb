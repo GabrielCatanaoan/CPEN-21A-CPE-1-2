{
  "nbformat": 4,
  "nbformat_minor": 0,
  "metadata": {
    "colab": {
      "name": "Final Exam.ipynb",
      "provenance": [],
      "collapsed_sections": [],
      "authorship_tag": "ABX9TyOD7vRYdViiF7NeMxbaGKyk",
      "include_colab_link": true
    },
    "kernelspec": {
      "name": "python3",
      "display_name": "Python 3"
    },
    "language_info": {
      "name": "python"
    }
  },
  "cells": [
    {
      "cell_type": "markdown",
      "metadata": {
        "id": "view-in-github",
        "colab_type": "text"
      },
      "source": [
        "<a href=\"https://colab.research.google.com/github/GabrielCatanaoan/CPEN-21A-CPE-1-2/blob/main/Final_Exam.ipynb\" target=\"_parent\"><img src=\"https://colab.research.google.com/assets/colab-badge.svg\" alt=\"Open In Colab\"/></a>"
      ]
    },
    {
      "cell_type": "markdown",
      "source": [
        "#Problem Statement 1"
      ],
      "metadata": {
        "id": "B_UjBT-nkSgY"
      }
    },
    {
      "cell_type": "markdown",
      "source": [
        "######Create a Python program that will produce an output of sum of 10 numbers that are less than 5 using FOR LOOP statement."
      ],
      "metadata": {
        "id": "qHXNlTk-vIMt"
      }
    },
    {
      "cell_type": "code",
      "source": [
        "y=0\n",
        "for number in range(10):\n",
        "  x=int(input('entered number less than 5='))\n",
        "  y+=x\n",
        "  if x>=5:\n",
        "    print('The number is not less than 5')\n",
        "    break\n",
        "if x<5:\n",
        "  print('The total of 10 numbers is=',y)\n",
        "\n",
        "  \n",
        "\n"
      ],
      "metadata": {
        "colab": {
          "base_uri": "https://localhost:8080/"
        },
        "id": "CXQ87JEkkaH4",
        "outputId": "c0f87969-61ca-4ede-902c-829032ca4e16"
      },
      "execution_count": 158,
      "outputs": [
        {
          "output_type": "stream",
          "name": "stdout",
          "text": [
            "entered number less than 5=1\n",
            "entered number less than 5=1\n",
            "entered number less than 5=2\n",
            "entered number less than 5=2\n",
            "entered number less than 5=3\n",
            "entered number less than 5=3\n",
            "entered number less than 5=4\n",
            "entered number less than 5=4\n",
            "entered number less than 5=1\n",
            "entered number less than 5=1\n",
            "The total of 10 numbers is= 22\n"
          ]
        }
      ]
    },
    {
      "cell_type": "markdown",
      "source": [
        "#Problem Statement 2"
      ],
      "metadata": {
        "id": "JsJHVvVRxmrq"
      }
    },
    {
      "cell_type": "markdown",
      "source": [
        "Create a Python program that will produce accept five numbers and determine the sum of\n",
        "first and last number among the five numbers entered using WHILE LOOP"
      ],
      "metadata": {
        "id": "Blkw3-a5xsGx"
      }
    },
    {
      "cell_type": "code",
      "source": [
        "number=0\n",
        "while number<5:\n",
        "  x=int(input('Entered number:'))\n",
        "  number+=1\n",
        "  if number==1:\n",
        "    first=x\n",
        "  elif number==5:\n",
        "    last=x\n",
        "print(first,'+',last,'=',first+last)\n",
        "\n",
        "\n",
        " \n",
        "\n",
        "\n",
        "  \n",
        " \n",
        " "
      ],
      "metadata": {
        "colab": {
          "base_uri": "https://localhost:8080/"
        },
        "id": "Vp8WnE3dzKt9",
        "outputId": "34d8d257-3cba-4025-d82e-31cf12f1b523"
      },
      "execution_count": 160,
      "outputs": [
        {
          "output_type": "stream",
          "name": "stdout",
          "text": [
            "Entered number:1\n",
            "Entered number:3\n",
            "Entered number:4\n",
            "Entered number:5\n",
            "Entered number:20\n",
            "1 + 20 = 21\n"
          ]
        }
      ]
    },
    {
      "cell_type": "markdown",
      "source": [
        "#Problem Statement 3"
      ],
      "metadata": {
        "id": "WYSOG1pF5gbp"
      }
    },
    {
      "cell_type": "markdown",
      "source": [
        "Create a Python program to calculate student grades. It accepts a numerical grade as input\n",
        "and it will display the character grade as output based on the given scale: (Use Nested-IF-Else\n",
        "statement)"
      ],
      "metadata": {
        "id": "cApLCnQH5jQR"
      }
    },
    {
      "cell_type": "code",
      "source": [
        "grade=float(input('Percent Grade:'))\n",
        "if grade>=0 and grade<=100:\n",
        "  if grade>=60 and grade<70:\n",
        "    print('D Grade')\n",
        "  elif grade>=70 and grade<80:\n",
        "    print('C Grade')\n",
        "  elif grade>=80 and grade<90:\n",
        "    print('B Grade')\n",
        "  elif grade>=90:\n",
        "    print('A Grade')\n",
        "  else:\n",
        "    print('F Grade')\n",
        "else:\n",
        "  print('Invalid Grade')\n",
        "\n",
        "  \n"
      ],
      "metadata": {
        "colab": {
          "base_uri": "https://localhost:8080/"
        },
        "id": "I76_nZSv5oBS",
        "outputId": "a85e6c40-9078-4b5c-9885-140e68ea4839"
      },
      "execution_count": null,
      "outputs": [
        {
          "output_type": "stream",
          "name": "stdout",
          "text": [
            "Percent Grade:89.99\n",
            "B Grade\n"
          ]
        }
      ]
    }
  ]
}