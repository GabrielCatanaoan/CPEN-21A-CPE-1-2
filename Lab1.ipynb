{
  "nbformat": 4,
  "nbformat_minor": 0,
  "metadata": {
    "colab": {
      "name": "Laboratory1.ipynb",
      "provenance": [],
      "authorship_tag": "ABX9TyM16ZeD/d83Z8NpolpbEdJz",
      "include_colab_link": true
    },
    "kernelspec": {
      "name": "python3",
      "display_name": "Python 3"
    },
    "language_info": {
      "name": "python"
    }
  },
  "cells": [
    {
      "cell_type": "markdown",
      "metadata": {
        "id": "view-in-github",
        "colab_type": "text"
      },
      "source": [
        "<a href=\"https://colab.research.google.com/github/GabrielCatanaoan/CPEN-21A-CPE-1-2/blob/main/Lab1.ipynb\" target=\"_parent\"><img src=\"https://colab.research.google.com/assets/colab-badge.svg\" alt=\"Open In Colab\"/></a>"
      ]
    },
    {
      "cell_type": "markdown",
      "metadata": {
        "id": "vTf-E89z4DU8"
      },
      "source": [
        "Write a python program that displays “Welcome to Python Programming”"
      ]
    },
    {
      "cell_type": "code",
      "metadata": {
        "colab": {
          "base_uri": "https://localhost:8080/"
        },
        "id": "FTrqrp5B1lWg",
        "outputId": "a73b3650-d6f2-413b-9358-7f032009e325"
      },
      "source": [
        "x= 'Welcome to Python Programming'\n",
        "print(x)"
      ],
      "execution_count": 20,
      "outputs": [
        {
          "output_type": "stream",
          "name": "stdout",
          "text": [
            "Welcome to Python Programming\n"
          ]
        }
      ]
    },
    {
      "cell_type": "markdown",
      "metadata": {
        "id": "hKfCMI8s34gs"
      },
      "source": [
        "Write a python program that allows you to output your name, address, and age to an appropriate structure."
      ]
    },
    {
      "cell_type": "code",
      "metadata": {
        "colab": {
          "base_uri": "https://localhost:8080/"
        },
        "id": "QRpBXQIm23X0",
        "outputId": "e7dc6bbe-5ca7-400f-d566-3c89479ec3ec"
      },
      "source": [
        "Name='Gabriel S. Catanaoan'\n",
        "Address='Lumampong Halayhay, Indang, Cavite'\n",
        "Age='18'\n",
        "print(Name)\n",
        "print(Address)\n",
        "print(Age)"
      ],
      "execution_count": 22,
      "outputs": [
        {
          "output_type": "stream",
          "name": "stdout",
          "text": [
            "Gabriel S. Catanaoan\n",
            "Lumampong Halayhay, Indang, Cavite\n",
            "18\n"
          ]
        }
      ]
    }
  ]
}