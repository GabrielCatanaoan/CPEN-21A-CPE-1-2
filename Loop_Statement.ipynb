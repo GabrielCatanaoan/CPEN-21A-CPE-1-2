{
  "nbformat": 4,
  "nbformat_minor": 0,
  "metadata": {
    "colab": {
      "name": "Loop Statement.ipynb",
      "provenance": [],
      "collapsed_sections": [],
      "authorship_tag": "ABX9TyMXVFva5AXqlFaqdOxlSRMs",
      "include_colab_link": true
    },
    "kernelspec": {
      "name": "python3",
      "display_name": "Python 3"
    },
    "language_info": {
      "name": "python"
    }
  },
  "cells": [
    {
      "cell_type": "markdown",
      "metadata": {
        "id": "view-in-github",
        "colab_type": "text"
      },
      "source": [
        "<a href=\"https://colab.research.google.com/github/GabrielCatanaoan/CPEN-21A-CPE-1-2/blob/main/Loop_Statement.ipynb\" target=\"_parent\"><img src=\"https://colab.research.google.com/assets/colab-badge.svg\" alt=\"Open In Colab\"/></a>"
      ]
    },
    {
      "cell_type": "markdown",
      "source": [
        "##FOR Loop\n"
      ],
      "metadata": {
        "id": "JyrgytPWKC0v"
      }
    },
    {
      "cell_type": "code",
      "source": [
        "week=['Sunday','Monday','Tuesday','Wednesday','Thursday','Friday','Saturday']\n",
        "\n",
        "for x in week:\n",
        "  print(x)"
      ],
      "metadata": {
        "colab": {
          "base_uri": "https://localhost:8080/"
        },
        "id": "YW5F8unZKLCO",
        "outputId": "06f7bdc8-c9eb-4024-9d93-782efb511921"
      },
      "execution_count": 5,
      "outputs": [
        {
          "output_type": "stream",
          "name": "stdout",
          "text": [
            "Sunday\n",
            "Monday\n",
            "Tuesday\n",
            "Wednesday\n",
            "Thursday\n",
            "Friday\n",
            "Saturday\n"
          ]
        }
      ]
    },
    {
      "cell_type": "markdown",
      "source": [
        "Break Statement"
      ],
      "metadata": {
        "id": "srooMqYALM1x"
      }
    },
    {
      "cell_type": "code",
      "source": [
        "week=['Sunday','Monday','Tuesday','Wednesday','Thursday','Friday','Saturday']\n",
        "\n",
        "for x in week:\n",
        "  print(x)\n",
        "  if x=='Thursday':\n",
        "    break"
      ],
      "metadata": {
        "colab": {
          "base_uri": "https://localhost:8080/"
        },
        "id": "RujWYy2MLQCj",
        "outputId": "cee2e242-387b-4ddd-f7ff-388b9f0c9131"
      },
      "execution_count": 8,
      "outputs": [
        {
          "output_type": "stream",
          "name": "stdout",
          "text": [
            "Sunday\n",
            "Monday\n",
            "Tuesday\n",
            "Wednesday\n",
            "Thursday\n"
          ]
        }
      ]
    },
    {
      "cell_type": "code",
      "source": [
        "#The break statement\n",
        "for x in week:\n",
        "  if x=='Thursday':\n",
        "    break\n",
        "  print(x)\n"
      ],
      "metadata": {
        "colab": {
          "base_uri": "https://localhost:8080/"
        },
        "id": "dp3g3AX-Lyjs",
        "outputId": "c3d38dfc-5caf-4c88-fd6a-57f36e11ece9"
      },
      "execution_count": 10,
      "outputs": [
        {
          "output_type": "stream",
          "name": "stdout",
          "text": [
            "Sunday\n",
            "Monday\n",
            "Tuesday\n",
            "Wednesday\n"
          ]
        }
      ]
    },
    {
      "cell_type": "markdown",
      "source": [
        "Looping through String"
      ],
      "metadata": {
        "id": "AJ9Z8dVCMO5i"
      }
    },
    {
      "cell_type": "code",
      "source": [
        "for x in 'Programming with Python':\n",
        "  print(x)"
      ],
      "metadata": {
        "colab": {
          "base_uri": "https://localhost:8080/"
        },
        "id": "njYAmtz5MROK",
        "outputId": "de146bd9-aed0-47de-aa2d-62fe1db2ce33"
      },
      "execution_count": 11,
      "outputs": [
        {
          "output_type": "stream",
          "name": "stdout",
          "text": [
            "P\n",
            "r\n",
            "o\n",
            "g\n",
            "r\n",
            "a\n",
            "m\n",
            "m\n",
            "i\n",
            "n\n",
            "g\n",
            " \n",
            "w\n",
            "i\n",
            "t\n",
            "h\n",
            " \n",
            "P\n",
            "y\n",
            "t\n",
            "h\n",
            "o\n",
            "n\n"
          ]
        }
      ]
    },
    {
      "cell_type": "code",
      "source": [
        "i=10\n",
        "while i<6:\n",
        "  print(i)\n",
        "  i-=1"
      ],
      "metadata": {
        "id": "WH1nQuXlOTQY"
      },
      "execution_count": 17,
      "outputs": []
    },
    {
      "cell_type": "markdown",
      "source": [
        "The Range Function"
      ],
      "metadata": {
        "id": "_3W_Ihi1Mq3r"
      }
    },
    {
      "cell_type": "code",
      "source": [
        "for x in range(10):\n",
        "  print(x)"
      ],
      "metadata": {
        "colab": {
          "base_uri": "https://localhost:8080/"
        },
        "id": "sj9TOvK3MtCL",
        "outputId": "ad08b5dc-0296-4d90-9848-a49d95e318b4"
      },
      "execution_count": 18,
      "outputs": [
        {
          "output_type": "stream",
          "name": "stdout",
          "text": [
            "0\n",
            "1\n",
            "2\n",
            "3\n",
            "4\n",
            "5\n",
            "6\n",
            "7\n",
            "8\n",
            "9\n"
          ]
        }
      ]
    },
    {
      "cell_type": "markdown",
      "source": [
        "Nested Loops"
      ],
      "metadata": {
        "id": "evygg0j3NHnc"
      }
    },
    {
      "cell_type": "code",
      "source": [
        "adjective=['red','big','tasty']\n",
        "fruits=['apple','banana','cherry']\n",
        "\n",
        "for x in adjective:\n",
        "  for y in fruits:\n",
        "    print(x,y)"
      ],
      "metadata": {
        "colab": {
          "base_uri": "https://localhost:8080/"
        },
        "id": "5vFAAtm3NQcV",
        "outputId": "1799bafa-4507-419d-82cc-d3605d04e93a"
      },
      "execution_count": 23,
      "outputs": [
        {
          "output_type": "stream",
          "name": "stdout",
          "text": [
            "red apple\n",
            "red banana\n",
            "red cherry\n",
            "big apple\n",
            "big banana\n",
            "big cherry\n",
            "tasty apple\n",
            "tasty banana\n",
            "tasty cherry\n"
          ]
        }
      ]
    },
    {
      "cell_type": "markdown",
      "source": [
        "##While Loop\n"
      ],
      "metadata": {
        "id": "ciD6FfEbOOvv"
      }
    },
    {
      "cell_type": "code",
      "source": [
        "i=10\n",
        "while i>6:\n",
        "  print(i)\n",
        "  i-=1 #assignment operator for subtraction\n",
        "  "
      ],
      "metadata": {
        "colab": {
          "base_uri": "https://localhost:8080/"
        },
        "id": "FXOOYLdYPGgM",
        "outputId": "cd4f82b1-79d5-44a2-9918-c48f89b1b71d"
      },
      "execution_count": 27,
      "outputs": [
        {
          "output_type": "stream",
          "name": "stdout",
          "text": [
            "10\n",
            "9\n",
            "8\n",
            "7\n"
          ]
        }
      ]
    },
    {
      "cell_type": "markdown",
      "source": [
        "The break statement"
      ],
      "metadata": {
        "id": "Ok6BeS6KPcsJ"
      }
    },
    {
      "cell_type": "code",
      "source": [
        "i=10\n",
        "while i>6:\n",
        "  print(i)\n",
        "  if i==8:\n",
        "    break\n",
        "  i-=1"
      ],
      "metadata": {
        "colab": {
          "base_uri": "https://localhost:8080/"
        },
        "id": "P8cSGlIDPfbh",
        "outputId": "ef744a12-1c88-4f96-e440-e3101263b561"
      },
      "execution_count": 30,
      "outputs": [
        {
          "output_type": "stream",
          "name": "stdout",
          "text": [
            "10\n",
            "9\n",
            "8\n"
          ]
        }
      ]
    },
    {
      "cell_type": "markdown",
      "source": [
        "Continue Statement"
      ],
      "metadata": {
        "id": "35jeWMuKQNEr"
      }
    },
    {
      "cell_type": "code",
      "source": [
        "i=10\n",
        "while i>6:\n",
        "  i-=1\n",
        "  if i==8:\n",
        "    continue\n",
        "  print(i)"
      ],
      "metadata": {
        "colab": {
          "base_uri": "https://localhost:8080/"
        },
        "id": "d1gQGhziQPo0",
        "outputId": "517af5a7-b483-4474-d5ec-40425bd062d7"
      },
      "execution_count": 37,
      "outputs": [
        {
          "output_type": "stream",
          "name": "stdout",
          "text": [
            "9\n",
            "7\n",
            "6\n"
          ]
        }
      ]
    },
    {
      "cell_type": "markdown",
      "source": [
        "The else statement"
      ],
      "metadata": {
        "id": "Vv6MuRMDRUbd"
      }
    },
    {
      "cell_type": "code",
      "source": [
        "i=10\n",
        "while i>6:\n",
        "  i-=1\n",
        "  print(i)\n",
        "else:\n",
        "  print('i is no longer greater than 6')"
      ],
      "metadata": {
        "colab": {
          "base_uri": "https://localhost:8080/"
        },
        "id": "TluXTuAMRW78",
        "outputId": "30388021-4862-4074-bd2d-d4b35ea651a5"
      },
      "execution_count": 39,
      "outputs": [
        {
          "output_type": "stream",
          "name": "stdout",
          "text": [
            "9\n",
            "8\n",
            "7\n",
            "6\n",
            "i is no longer greater than 6\n"
          ]
        }
      ]
    },
    {
      "cell_type": "markdown",
      "source": [
        "#Application 1"
      ],
      "metadata": {
        "id": "tVMoS9sWR96Q"
      }
    },
    {
      "cell_type": "code",
      "source": [
        "for x in range(11):       #using FOR loop statement\n",
        "  print(x)"
      ],
      "metadata": {
        "colab": {
          "base_uri": "https://localhost:8080/"
        },
        "id": "rDalCtkjT2sc",
        "outputId": "ba80bda6-c41a-468a-a347-0a96d101e9a2"
      },
      "execution_count": 92,
      "outputs": [
        {
          "output_type": "stream",
          "name": "stdout",
          "text": [
            "0\n",
            "1\n",
            "2\n",
            "3\n",
            "4\n",
            "5\n",
            "6\n",
            "7\n",
            "8\n",
            "9\n",
            "10\n"
          ]
        }
      ]
    },
    {
      "cell_type": "code",
      "source": [
        "x=-1\n",
        "while x<11:           #using WHILE loop statement\n",
        "  x+=1\n",
        "  print(x)\n",
        "  if x==10:\n",
        "    break\n"
      ],
      "metadata": {
        "colab": {
          "base_uri": "https://localhost:8080/"
        },
        "id": "mWSpZqX-ZG7H",
        "outputId": "ae4b1c8e-64c8-4d0b-85f8-2c6f2ff0d751"
      },
      "execution_count": 86,
      "outputs": [
        {
          "output_type": "stream",
          "name": "stdout",
          "text": [
            "0\n",
            "1\n",
            "2\n",
            "3\n",
            "4\n",
            "5\n",
            "6\n",
            "7\n",
            "8\n",
            "9\n",
            "10\n"
          ]
        }
      ]
    },
    {
      "cell_type": "markdown",
      "source": [
        "Application 2"
      ],
      "metadata": {
        "id": "m7FzZ6aiSICw"
      }
    },
    {
      "cell_type": "code",
      "source": [
        "i=20\n",
        "while i>3:\n",
        "  i-=1\n",
        "  print(i)\n",
        "  if i==4:\n",
        "    break\n"
      ],
      "metadata": {
        "colab": {
          "base_uri": "https://localhost:8080/"
        },
        "id": "g7EcGDm9SA0R",
        "outputId": "370eea85-934c-4eab-f8d9-34d296906653"
      },
      "execution_count": 47,
      "outputs": [
        {
          "output_type": "stream",
          "name": "stdout",
          "text": [
            "19\n",
            "18\n",
            "17\n",
            "16\n",
            "15\n",
            "14\n",
            "13\n",
            "12\n",
            "11\n",
            "10\n",
            "9\n",
            "8\n",
            "7\n",
            "6\n",
            "5\n",
            "4\n"
          ]
        }
      ]
    }
  ]
}