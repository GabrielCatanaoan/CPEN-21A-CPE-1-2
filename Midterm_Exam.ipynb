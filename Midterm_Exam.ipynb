{
  "nbformat": 4,
  "nbformat_minor": 0,
  "metadata": {
    "colab": {
      "name": "Midterm Exam.ipynb",
      "provenance": [],
      "authorship_tag": "ABX9TyNtIglBrGLjwmMFtkBx8DCS",
      "include_colab_link": true
    },
    "kernelspec": {
      "name": "python3",
      "display_name": "Python 3"
    },
    "language_info": {
      "name": "python"
    }
  },
  "cells": [
    {
      "cell_type": "markdown",
      "metadata": {
        "id": "view-in-github",
        "colab_type": "text"
      },
      "source": [
        "<a href=\"https://colab.research.google.com/github/GabrielCatanaoan/CPEN-21A-CPE-1-2/blob/main/Midterm_Exam.ipynb\" target=\"_parent\"><img src=\"https://colab.research.google.com/assets/colab-badge.svg\" alt=\"Open In Colab\"/></a>"
      ]
    },
    {
      "cell_type": "markdown",
      "metadata": {
        "id": "istcbbjRCoRR"
      },
      "source": [
        "###Problem Statement 1"
      ]
    },
    {
      "cell_type": "code",
      "metadata": {
        "colab": {
          "base_uri": "https://localhost:8080/"
        },
        "id": "-d__rEIuDsnj",
        "outputId": "193ce80e-e21e-4efa-c98c-70541b84aa17"
      },
      "source": [
        "#ORDER OF NECESSARY INFORMATION\n",
        "#Full name\n",
        "#Student Number\n",
        "#Age\n",
        "#Birthday\n",
        "#Address\n",
        "#Course\n",
        "#Last Sem GWA \n",
        "\n",
        "Necessary_Information=\"\"\"Gabriel S. Catanaoan         \n",
        "202101498\n",
        "18\n",
        "August 14, 2003\n",
        "Lumampong Halayhay, Indang, Cavite\n",
        "Bachelor of Science in Computer Engineering\n",
        "94\"\"\"\n",
        "\n",
        "print(Necessary_Information)"
      ],
      "execution_count": 53,
      "outputs": [
        {
          "output_type": "stream",
          "name": "stdout",
          "text": [
            "Gabriel S. Catanaoan         \n",
            "202101498\n",
            "18\n",
            "August 14, 2003\n",
            "Lumampong Halayhay, Indang, Cavite\n",
            "Bachelor of Science in Computer Engineering\n",
            "94\n"
          ]
        }
      ]
    },
    {
      "cell_type": "markdown",
      "metadata": {
        "id": "Gp_uX6wLFsOH"
      },
      "source": [
        "###Problem Statement 2"
      ]
    },
    {
      "cell_type": "code",
      "metadata": {
        "colab": {
          "base_uri": "https://localhost:8080/"
        },
        "id": "MgZWnWBoFvqe",
        "outputId": "5e1fe156-1426-4535-c1d6-4cfd332ca83c"
      },
      "source": [
        "n=4\n",
        "answ='Y'\n",
        "print((2<n)and (n<6))                           #a\n",
        "print((2<n)or (n==6))                           #b\n",
        "print(not((2<n)or (n==6)))                      #c\n",
        "print(not(n<6))                                 #d\n",
        "print((answ=='Y')or (answ=='y'))                #e\n",
        "print((answ=='Y')and (answ=='y'))               #f\n",
        "print(not(answ=='y'))                           #g\n",
        "print(((2<n)and (n==5+1))or (answ=='No'))       #h\n",
        "print(((n==2)and (n==7))or(answ=='Y'))          #i \n",
        "print((n==2)and ((n==7)or(answ=='Y')))          #j    "
      ],
      "execution_count": 52,
      "outputs": [
        {
          "output_type": "stream",
          "name": "stdout",
          "text": [
            "True\n",
            "True\n",
            "False\n",
            "False\n",
            "True\n",
            "False\n",
            "True\n",
            "False\n",
            "True\n",
            "False\n"
          ]
        }
      ]
    },
    {
      "cell_type": "markdown",
      "metadata": {
        "id": "LyQCinv7Lcjx"
      },
      "source": [
        "###Problem Statement 3"
      ]
    },
    {
      "cell_type": "code",
      "metadata": {
        "colab": {
          "base_uri": "https://localhost:8080/"
        },
        "id": "rQAma3pyLflP",
        "outputId": "05e4679b-6633-424e-df04-8bb7527ddf60"
      },
      "source": [
        "x,y,w,z=2,-3,7,-10\n",
        "print(x/y)                #a\n",
        "print(w/y/x)              #b\n",
        "print(z/y%x)              #c\n",
        "print(x%-y*w)             #d\n",
        "print(x%y)                #e\n",
        "print(z%w-y/x*5+5)        #f\n",
        "print(9-x%(2+y))          #g\n",
        "print(z//w)               #h\n",
        "print((2+y)**2)           #i\n",
        "print(w/x*2)              #j"
      ],
      "execution_count": 51,
      "outputs": [
        {
          "output_type": "stream",
          "name": "stdout",
          "text": [
            "-0.6666666666666666\n",
            "-1.1666666666666667\n",
            "1.3333333333333335\n",
            "14\n",
            "-1\n",
            "16.5\n",
            "9\n",
            "-2\n",
            "1\n",
            "7.0\n"
          ]
        }
      ]
    }
  ]
}