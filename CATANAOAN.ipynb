{
  "nbformat": 4,
  "nbformat_minor": 0,
  "metadata": {
    "colab": {
      "name": "Untitled0.ipynb",
      "provenance": [],
      "authorship_tag": "ABX9TyOuUDz4gXv3KXdtwIrfyIEU",
      "include_colab_link": true
    },
    "kernelspec": {
      "name": "python3",
      "display_name": "Python 3"
    },
    "language_info": {
      "name": "python"
    }
  },
  "cells": [
    {
      "cell_type": "markdown",
      "metadata": {
        "id": "view-in-github",
        "colab_type": "text"
      },
      "source": [
        "<a href=\"https://colab.research.google.com/github/GabrielCatanaoan/CPEN-21A-CPE-1-2/blob/main/CATANAOAN.ipynb\" target=\"_parent\"><img src=\"https://colab.research.google.com/assets/colab-badge.svg\" alt=\"Open In Colab\"/></a>"
      ]
    },
    {
      "cell_type": "markdown",
      "metadata": {
        "id": "F4g7tMyH35hi"
      },
      "source": [
        "Introduction to Python"
      ]
    },
    {
      "cell_type": "code",
      "metadata": {
        "colab": {
          "base_uri": "https://localhost:8080/"
        },
        "id": "OhdddMt136Za",
        "outputId": "a91830bb-4ab8-45f1-add3-8ca1970c1e2f"
      },
      "source": [
        "#Python Indenttion\n",
        "if 5>2:\n",
        "  print(\"five is greater than two\")"
      ],
      "execution_count": 1,
      "outputs": [
        {
          "output_type": "stream",
          "name": "stdout",
          "text": [
            "five is greater than two\n"
          ]
        }
      ]
    },
    {
      "cell_type": "code",
      "metadata": {
        "id": "W2O9GmVT58n1"
      },
      "source": [
        "x=1 #This is a single variable with single value\n",
        "x,y=1,2 #These are two variables with two differnt variable\n",
        "print"
      ],
      "execution_count": null,
      "outputs": []
    },
    {
      "cell_type": "markdown",
      "metadata": {
        "id": "eitO7UAL69II"
      },
      "source": [
        "###Casting"
      ]
    },
    {
      "cell_type": "code",
      "metadata": {
        "colab": {
          "base_uri": "https://localhost:8080/"
        },
        "id": "VHL7pH8r7Asl",
        "outputId": "21ab6753-bf0f-4bc2-ff8d-0af56d3b794d"
      },
      "source": [
        "b=int(4)\n",
        "b\n",
        "c=float(4)\n",
        "c"
      ],
      "execution_count": 11,
      "outputs": [
        {
          "output_type": "execute_result",
          "data": {
            "text/plain": [
              "4.0"
            ]
          },
          "metadata": {},
          "execution_count": 11
        }
      ]
    },
    {
      "cell_type": "markdown",
      "metadata": {
        "id": "ZYrzbgY_7WH_"
      },
      "source": [
        "###Type Function"
      ]
    },
    {
      "cell_type": "code",
      "metadata": {
        "colab": {
          "base_uri": "https://localhost:8080/"
        },
        "id": "B67OqT0a7Zbe",
        "outputId": "fead93b4-a374-4f09-d585-03ca8085e7ea"
      },
      "source": [
        "x=5\n",
        "y='John'\n",
        "h= 'ana'\n",
        "H='Ana'\n",
        "print(type(H))\n",
        "print(type(x))\n",
        "print(type(y))\n",
        "print(type(h))\n",
        "\n"
      ],
      "execution_count": 10,
      "outputs": [
        {
          "output_type": "stream",
          "name": "stdout",
          "text": [
            "<class 'str'>\n",
            "<class 'int'>\n",
            "<class 'str'>\n",
            "<class 'str'>\n"
          ]
        }
      ]
    },
    {
      "cell_type": "markdown",
      "metadata": {
        "id": "pR1FKfXt8Z5w"
      },
      "source": [
        "###One\n",
        "\n"
      ]
    },
    {
      "cell_type": "code",
      "metadata": {
        "id": "q0DcNeLS8nWI"
      },
      "source": [
        "x=y=z='four'\n",
        "print"
      ],
      "execution_count": null,
      "outputs": []
    },
    {
      "cell_type": "code",
      "metadata": {
        "colab": {
          "base_uri": "https://localhost:8080/"
        },
        "id": "Pq8kbrxn8ymo",
        "outputId": "813a19e8-af9b-4883-8f83-01627aaf685a"
      },
      "source": [
        "x='pogi'\n",
        "print('Gabriel is '    + x)"
      ],
      "execution_count": 32,
      "outputs": [
        {
          "output_type": "stream",
          "name": "stdout",
          "text": [
            "Gabriel is pogi\n"
          ]
        }
      ]
    },
    {
      "cell_type": "code",
      "metadata": {
        "colab": {
          "base_uri": "https://localhost:8080/"
        },
        "id": "yqapa5Dc9Qw5",
        "outputId": "7c2d5677-118b-41c2-b4b4-e950fcb88195"
      },
      "source": [
        "x = 11\n",
        "y = 12\n",
        "z =13\n",
        "print(x+y+z)"
      ],
      "execution_count": 45,
      "outputs": [
        {
          "output_type": "stream",
          "name": "stdout",
          "text": [
            "36\n"
          ]
        }
      ]
    },
    {
      "cell_type": "code",
      "metadata": {
        "colab": {
          "base_uri": "https://localhost:8080/"
        },
        "id": "_EnfoS-e9hdS",
        "outputId": "576bae59-f7fc-481c-cdee-2b7c41197635"
      },
      "source": [
        "x+=3 #this is the sam as x is equal to x+3\n",
        "print(x)"
      ],
      "execution_count": 46,
      "outputs": [
        {
          "output_type": "stream",
          "name": "stdout",
          "text": [
            "14\n"
          ]
        }
      ]
    },
    {
      "cell_type": "code",
      "metadata": {
        "colab": {
          "base_uri": "https://localhost:8080/"
        },
        "id": "YnOod1Gp9-bc",
        "outputId": "7d1a703e-97ea-4153-c19c-07c924dd2abd"
      },
      "source": [
        "x>y\n"
      ],
      "execution_count": 47,
      "outputs": [
        {
          "output_type": "execute_result",
          "data": {
            "text/plain": [
              "True"
            ]
          },
          "metadata": {},
          "execution_count": 47
        }
      ]
    },
    {
      "cell_type": "code",
      "metadata": {
        "colab": {
          "base_uri": "https://localhost:8080/"
        },
        "id": "sWWIdLlc-UHS",
        "outputId": "af17c2c0-c42f-4ccb-f768-6d18f905ec51"
      },
      "source": [
        "y+=5\n",
        "print(y)\n"
      ],
      "execution_count": 48,
      "outputs": [
        {
          "output_type": "stream",
          "name": "stdout",
          "text": [
            "17\n"
          ]
        }
      ]
    },
    {
      "cell_type": "code",
      "metadata": {
        "colab": {
          "base_uri": "https://localhost:8080/"
        },
        "id": "IAcVNEMa-07q",
        "outputId": "dc1cf7ff-d818-46bc-dd41-2a30188adcee"
      },
      "source": [
        "x>y and x!=x"
      ],
      "execution_count": 52,
      "outputs": [
        {
          "output_type": "execute_result",
          "data": {
            "text/plain": [
              "False"
            ]
          },
          "metadata": {},
          "execution_count": 52
        }
      ]
    },
    {
      "cell_type": "code",
      "metadata": {
        "colab": {
          "base_uri": "https://localhost:8080/"
        },
        "id": "o9ruSaua_PYt",
        "outputId": "e6326ccd-12d9-47ec-ba02-999d66022683"
      },
      "source": [
        "not(print(x>y))"
      ],
      "execution_count": 55,
      "outputs": [
        {
          "output_type": "stream",
          "name": "stdout",
          "text": [
            "False\n"
          ]
        },
        {
          "output_type": "execute_result",
          "data": {
            "text/plain": [
              "True"
            ]
          },
          "metadata": {},
          "execution_count": 55
        }
      ]
    }
  ]
}