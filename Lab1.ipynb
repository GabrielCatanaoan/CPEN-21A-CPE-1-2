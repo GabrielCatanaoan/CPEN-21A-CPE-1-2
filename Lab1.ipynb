{
  "nbformat": 4,
  "nbformat_minor": 0,
  "metadata": {
    "colab": {
      "name": "Laboratory1.ipynb",
      "provenance": [],
      "authorship_tag": "ABX9TyO+fkqxysfUw6FbLXcy4Tph",
      "include_colab_link": true
    },
    "kernelspec": {
      "name": "python3",
      "display_name": "Python 3"
    },
    "language_info": {
      "name": "python"
    }
  },
  "cells": [
    {
      "cell_type": "markdown",
      "metadata": {
        "id": "view-in-github",
        "colab_type": "text"
      },
      "source": [
        "<a href=\"https://colab.research.google.com/github/GabrielCatanaoan/CPEN-21A-CPE-1-2/blob/main/Lab1.ipynb\" target=\"_parent\"><img src=\"https://colab.research.google.com/assets/colab-badge.svg\" alt=\"Open In Colab\"/></a>"
      ]
    },
    {
      "cell_type": "markdown",
      "metadata": {
        "id": "vTf-E89z4DU8"
      },
      "source": [
        "Write a python program that displays “Welcome to Python Programming”"
      ]
    },
    {
      "cell_type": "code",
      "metadata": {
        "colab": {
          "base_uri": "https://localhost:8080/"
        },
        "id": "FTrqrp5B1lWg",
        "outputId": "1b8d7388-ebc2-4235-96ac-9b75ab98314b"
      },
      "source": [
        "x= 'Welcome to Python Programming'\n",
        "  print(x)"
      ],
      "execution_count": 3,
      "outputs": [
        {
          "output_type": "stream",
          "name": "stdout",
          "text": [
            "Welcome to Python Programming\n"
          ]
        }
      ]
    },
    {
      "cell_type": "code",
      "metadata": {
        "colab": {
          "base_uri": "https://localhost:8080/"
        },
        "id": "Wxn2sF2p2bUN",
        "outputId": "ab789642-db2f-4b71-f894-b220b513b180"
      },
      "source": [
        "w='Welcome'\n",
        "x='to'\n",
        "y='Python'\n",
        "z='Programming'\n",
        "  print(w,x,y,z)"
      ],
      "execution_count": 6,
      "outputs": [
        {
          "output_type": "stream",
          "name": "stdout",
          "text": [
            "Welcome to Python Programming\n"
          ]
        }
      ]
    },
    {
      "cell_type": "markdown",
      "metadata": {
        "id": "hKfCMI8s34gs"
      },
      "source": [
        "Write a python program that allows you to output your name, address, and age to an appropriate structure."
      ]
    },
    {
      "cell_type": "code",
      "metadata": {
        "colab": {
          "base_uri": "https://localhost:8080/"
        },
        "id": "QRpBXQIm23X0",
        "outputId": "86b07f7c-1daf-4b3f-da5a-b7027d467c7a"
      },
      "source": [
        "Name='Gabriel S. Catanaoan'\n",
        "Age='18'\n",
        "Address='Lumampong Halayhay, Indang, Cavite'\n",
        "  print(Name)\n",
        "  print(Age)\n",
        "  print(Address)\n"
      ],
      "execution_count": 11,
      "outputs": [
        {
          "output_type": "stream",
          "name": "stdout",
          "text": [
            "Gabriel S. Catanaoan\n",
            "18\n",
            "Lumampong Halayhay, Indang, Cavite\n"
          ]
        }
      ]
    }
  ]
}