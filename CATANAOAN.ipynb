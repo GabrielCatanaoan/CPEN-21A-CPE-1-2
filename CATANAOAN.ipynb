{
  "nbformat": 4,
  "nbformat_minor": 0,
  "metadata": {
    "colab": {
      "name": "Untitled0.ipynb",
      "provenance": [],
      "authorship_tag": "ABX9TyNBLWKQRUGqc/8UhD4KQFMp",
      "include_colab_link": true
    },
    "kernelspec": {
      "name": "python3",
      "display_name": "Python 3"
    },
    "language_info": {
      "name": "python"
    }
  },
  "cells": [
    {
      "cell_type": "markdown",
      "metadata": {
        "id": "view-in-github",
        "colab_type": "text"
      },
      "source": [
        "<a href=\"https://colab.research.google.com/github/GabrielCatanaoan/CPEN-21A-CPE-1-2/blob/main/CATANAOAN.ipynb\" target=\"_parent\"><img src=\"https://colab.research.google.com/assets/colab-badge.svg\" alt=\"Open In Colab\"/></a>"
      ]
    },
    {
      "cell_type": "markdown",
      "metadata": {
        "id": "F4g7tMyH35hi"
      },
      "source": [
        "Introduction to Python"
      ]
    },
    {
      "cell_type": "code",
      "metadata": {
        "colab": {
          "base_uri": "https://localhost:8080/"
        },
        "id": "OhdddMt136Za",
        "outputId": "a91830bb-4ab8-45f1-add3-8ca1970c1e2f"
      },
      "source": [
        "#Python Indenttion\n",
        "if 5>2:\n",
        "  print(\"five is greater than two\")"
      ],
      "execution_count": null,
      "outputs": [
        {
          "output_type": "stream",
          "name": "stdout",
          "text": [
            "five is greater than two\n"
          ]
        }
      ]
    },
    {
      "cell_type": "code",
      "metadata": {
        "id": "W2O9GmVT58n1"
      },
      "source": [
        "x=1 #This is a single variable with single value\n",
        "x,y=1,2 #These are two variables with two differnt variable\n",
        "print"
      ],
      "execution_count": null,
      "outputs": []
    },
    {
      "cell_type": "markdown",
      "metadata": {
        "id": "eitO7UAL69II"
      },
      "source": [
        "###Casting"
      ]
    },
    {
      "cell_type": "code",
      "metadata": {
        "colab": {
          "base_uri": "https://localhost:8080/"
        },
        "id": "VHL7pH8r7Asl",
        "outputId": "86eabba3-1bd3-47ca-f54b-869ea9a856c7"
      },
      "source": [
        "b=int(4)\n",
        "print(b)\n",
        "c=float(4)\n",
        "print(c)\n",
        "d='Jonel'#this is a type of string\n",
        "print(d)"
      ],
      "execution_count": 5,
      "outputs": [
        {
          "output_type": "stream",
          "name": "stdout",
          "text": [
            "4\n",
            "4.0\n",
            "Jonel\n"
          ]
        }
      ]
    },
    {
      "cell_type": "markdown",
      "metadata": {
        "id": "ZYrzbgY_7WH_"
      },
      "source": [
        "###Type Function"
      ]
    },
    {
      "cell_type": "code",
      "metadata": {
        "colab": {
          "base_uri": "https://localhost:8080/"
        },
        "id": "B67OqT0a7Zbe",
        "outputId": "a5f69367-4e18-4852-c73b-3c119784f50c"
      },
      "source": [
        "x=8\n",
        "y='Johnny'\n",
        "h= 'Jonnie'\n",
        "H='yes'\n",
        "i='papa'\n",
        "print(type(x))\n",
        "print(type(y))\n",
        "print(type(h))\n",
        "print(type(H))\n",
        "print(type(i))\n",
        "\n"
      ],
      "execution_count": 7,
      "outputs": [
        {
          "output_type": "stream",
          "name": "stdout",
          "text": [
            "<class 'int'>\n",
            "<class 'str'>\n",
            "<class 'str'>\n",
            "<class 'str'>\n",
            "<class 'str'>\n"
          ]
        }
      ]
    },
    {
      "cell_type": "markdown",
      "metadata": {
        "id": "PLw-XZ5yGesO"
      },
      "source": [
        "##Case Sensitive"
      ]
    },
    {
      "cell_type": "code",
      "metadata": {
        "id": "t5k2zGXzGork",
        "outputId": "dcfd9adb-ce7b-4773-e931-fbf3972b1b86",
        "colab": {
          "base_uri": "https://localhost:8080/"
        }
      },
      "source": [
        "L= ('eating')\n",
        "l= ('sugar')\n",
        "M= ('No')\n",
        "m= ('Fafa')\n",
        "\n",
        "print(L,l,M,m)"
      ],
      "execution_count": 12,
      "outputs": [
        {
          "output_type": "stream",
          "name": "stdout",
          "text": [
            "eating sugar No Fafa\n"
          ]
        }
      ]
    },
    {
      "cell_type": "markdown",
      "metadata": {
        "id": "pR1FKfXt8Z5w"
      },
      "source": [
        "###Multiple Variables\n",
        "\n"
      ]
    },
    {
      "cell_type": "code",
      "metadata": {
        "id": "q0DcNeLS8nWI",
        "outputId": "87ef4b42-7e05-41d4-99c3-e6badf9b5263",
        "colab": {
          "base_uri": "https://localhost:8080/"
        }
      },
      "source": [
        "x,y,z='may','pulang','kotse'\n",
        "print(x,y,z)\n"
      ],
      "execution_count": 21,
      "outputs": [
        {
          "output_type": "stream",
          "name": "stdout",
          "text": [
            "may pulang kotse\n"
          ]
        }
      ]
    },
    {
      "cell_type": "markdown",
      "metadata": {
        "id": "NutdhOlqIu7n"
      },
      "source": [
        "##One Value to Multiple Variables"
      ]
    },
    {
      "cell_type": "code",
      "metadata": {
        "id": "HtW6NeYOI1tP",
        "outputId": "598c0704-c562-40ce-ceb5-ac75ef036d99",
        "colab": {
          "base_uri": "https://localhost:8080/"
        }
      },
      "source": [
        "x=y=z='one_night_only'\n",
        "print(x)\n",
        "print(y)\n",
        "print(z)"
      ],
      "execution_count": 19,
      "outputs": [
        {
          "output_type": "stream",
          "name": "stdout",
          "text": [
            "one_night_only\n",
            "one_night_only\n",
            "one_night_only\n"
          ]
        }
      ]
    },
    {
      "cell_type": "markdown",
      "metadata": {
        "id": "OiK3bYRxJ2VR"
      },
      "source": [
        "##Output Variables"
      ]
    },
    {
      "cell_type": "code",
      "metadata": {
        "colab": {
          "base_uri": "https://localhost:8080/"
        },
        "id": "Pq8kbrxn8ymo",
        "outputId": "676c1fa1-fec7-4f15-eccc-c81999249759"
      },
      "source": [
        "x='amazing'\n",
        "print('Coding is '    + x)\n"
      ],
      "execution_count": 22,
      "outputs": [
        {
          "output_type": "stream",
          "name": "stdout",
          "text": [
            "Coding is amazing\n"
          ]
        }
      ]
    },
    {
      "cell_type": "code",
      "metadata": {
        "colab": {
          "base_uri": "https://localhost:8080/"
        },
        "id": "yqapa5Dc9Qw5",
        "outputId": "94750593-43d8-436e-8cd5-a0ca5832d299"
      },
      "source": [
        "x = 1\n",
        "y = 2\n",
        "z =3\n",
        "print(x+y+z)"
      ],
      "execution_count": 24,
      "outputs": [
        {
          "output_type": "stream",
          "name": "stdout",
          "text": [
            "6\n"
          ]
        }
      ]
    },
    {
      "cell_type": "markdown",
      "metadata": {
        "id": "zjxVaQX0KemK"
      },
      "source": [
        "##Assignment Operators"
      ]
    },
    {
      "cell_type": "markdown",
      "metadata": {
        "id": "UmquGNxuUIq-"
      },
      "source": [
        "same as x= x+10"
      ]
    },
    {
      "cell_type": "code",
      "metadata": {
        "id": "EVynpJf9TkAk",
        "outputId": "d39c775c-6d4c-494e-ca35-5f76ff593108",
        "colab": {
          "base_uri": "https://localhost:8080/"
        }
      },
      "source": [
        "x+=10\n",
        "print(x)"
      ],
      "execution_count": 99,
      "outputs": [
        {
          "output_type": "stream",
          "name": "stdout",
          "text": [
            "20\n"
          ]
        }
      ]
    },
    {
      "cell_type": "markdown",
      "metadata": {
        "id": "FA5vs4EhLh6r"
      },
      "source": [
        "##Comparison Operators"
      ]
    },
    {
      "cell_type": "code",
      "metadata": {
        "id": "qJnIkGTpLlJR",
        "outputId": "7050792b-3c00-4bc3-8027-039a7aa5263a",
        "colab": {
          "base_uri": "https://localhost:8080/"
        }
      },
      "source": [
        "x=1\n",
        "y=2\n",
        "print(x==y)\n",
        "print(x!=y)"
      ],
      "execution_count": 39,
      "outputs": [
        {
          "output_type": "stream",
          "name": "stdout",
          "text": [
            "False\n",
            "True\n"
          ]
        }
      ]
    },
    {
      "cell_type": "markdown",
      "metadata": {
        "id": "nNVap2WlL6qK"
      },
      "source": [
        "##Logical Operators"
      ]
    },
    {
      "cell_type": "code",
      "metadata": {
        "id": "brSweiTaL-QD",
        "outputId": "0905c722-6662-4e99-b0a4-dc7b6079f3bd",
        "colab": {
          "base_uri": "https://localhost:8080/"
        }
      },
      "source": [
        "x=100\n",
        "print(x<200 and x>50)"
      ],
      "execution_count": 40,
      "outputs": [
        {
          "output_type": "stream",
          "name": "stdout",
          "text": [
            "True\n"
          ]
        }
      ]
    },
    {
      "cell_type": "code",
      "metadata": {
        "id": "Vl84XGoiMctU",
        "outputId": "a7c7a3cb-16c8-44de-c5e9-fa921f412330",
        "colab": {
          "base_uri": "https://localhost:8080/"
        }
      },
      "source": [
        "x=35                    #become True if one of the statement is true\n",
        "print(x<30 or x<50)"
      ],
      "execution_count": 51,
      "outputs": [
        {
          "output_type": "stream",
          "name": "stdout",
          "text": [
            "True\n"
          ]
        }
      ]
    },
    {
      "cell_type": "code",
      "metadata": {
        "id": "aZFkBj8RNW8c",
        "outputId": "c62c8107-eb81-4400-ee9e-5343ac9db8ed",
        "colab": {
          "base_uri": "https://localhost:8080/"
        }
      },
      "source": [
        "not(x<30 or x<50)      #reverse th result,returns False if the result is true"
      ],
      "execution_count": 52,
      "outputs": [
        {
          "output_type": "execute_result",
          "data": {
            "text/plain": [
              "False"
            ]
          },
          "metadata": {},
          "execution_count": 52
        }
      ]
    },
    {
      "cell_type": "markdown",
      "metadata": {
        "id": "WQT4K7s6OKYN"
      },
      "source": [
        "##Identity Operators"
      ]
    },
    {
      "cell_type": "code",
      "metadata": {
        "id": "IkdN-z43OORW",
        "outputId": "e1e49774-00e0-4904-db2a-936fdfa424ac",
        "colab": {
          "base_uri": "https://localhost:8080/"
        }
      },
      "source": [
        "x=10\n",
        "y=20\n",
        "print(x is y)\n",
        "print(x is not y)"
      ],
      "execution_count": 53,
      "outputs": [
        {
          "output_type": "stream",
          "name": "stdout",
          "text": [
            "False\n",
            "True\n"
          ]
        }
      ]
    }
  ]
}