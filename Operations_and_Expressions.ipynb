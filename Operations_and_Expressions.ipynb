{
  "nbformat": 4,
  "nbformat_minor": 0,
  "metadata": {
    "colab": {
      "name": "Operations and Expressions.ipynb",
      "provenance": [],
      "authorship_tag": "ABX9TyMueFun+Xv6HP8X4GNdBfJ2",
      "include_colab_link": true
    },
    "kernelspec": {
      "name": "python3",
      "display_name": "Python 3"
    },
    "language_info": {
      "name": "python"
    }
  },
  "cells": [
    {
      "cell_type": "markdown",
      "metadata": {
        "id": "view-in-github",
        "colab_type": "text"
      },
      "source": [
        "<a href=\"https://colab.research.google.com/github/GabrielCatanaoan/CPEN-21A-CPE-1-2/blob/main/Operations_and_Expressions.ipynb\" target=\"_parent\"><img src=\"https://colab.research.google.com/assets/colab-badge.svg\" alt=\"Open In Colab\"/></a>"
      ]
    },
    {
      "cell_type": "markdown",
      "metadata": {
        "id": "2p4cc04R0bCn"
      },
      "source": [
        "###Boolean Operators\n",
        "\n"
      ]
    },
    {
      "cell_type": "code",
      "metadata": {
        "colab": {
          "base_uri": "https://localhost:8080/"
        },
        "id": "-p-qsaaB0fZW",
        "outputId": "54770f79-c577-4a17-e481-a43c70ce556d"
      },
      "source": [
        "#Booleans represent one of two values: True or False\n",
        "print(10==9)\n",
        "print(10!=9)"
      ],
      "execution_count": 10,
      "outputs": [
        {
          "output_type": "stream",
          "name": "stdout",
          "text": [
            "False\n",
            "True\n"
          ]
        }
      ]
    },
    {
      "cell_type": "code",
      "metadata": {
        "colab": {
          "base_uri": "https://localhost:8080/"
        },
        "id": "2BbcEHMeHQdf",
        "outputId": "12811b45-1b5f-4b3d-bbee-bd0539bb44ae"
      },
      "source": [
        "print(10>5)\n",
        "print(10<5)\n"
      ],
      "execution_count": 6,
      "outputs": [
        {
          "output_type": "stream",
          "name": "stdout",
          "text": [
            "True\n",
            "False\n"
          ]
        }
      ]
    },
    {
      "cell_type": "code",
      "metadata": {
        "colab": {
          "base_uri": "https://localhost:8080/"
        },
        "id": "ZyMU4OPIKHj1",
        "outputId": "cf01fca6-0826-45d4-e8c7-995ef2ffe767"
      },
      "source": [
        "a=10\n",
        "b=9\n",
        "print(a>b)\n",
        "print(a==a)\n",
        "print(b>a)"
      ],
      "execution_count": 12,
      "outputs": [
        {
          "output_type": "stream",
          "name": "stdout",
          "text": [
            "True\n",
            "True\n",
            "False\n"
          ]
        }
      ]
    },
    {
      "cell_type": "code",
      "metadata": {
        "colab": {
          "base_uri": "https://localhost:8080/"
        },
        "id": "PmZezUsdIjSX",
        "outputId": "bbe2abeb-f3cb-41dc-fd6c-f17638821564"
      },
      "source": [
        "print(bool('Hello'))\n",
        "print(bool())"
      ],
      "execution_count": 7,
      "outputs": [
        {
          "output_type": "stream",
          "name": "stdout",
          "text": [
            "True\n",
            "False\n"
          ]
        }
      ]
    },
    {
      "cell_type": "markdown",
      "metadata": {
        "id": "gZAjr4MNIwAA"
      },
      "source": [
        "###Functions Can Return Boolean"
      ]
    },
    {
      "cell_type": "code",
      "metadata": {
        "colab": {
          "base_uri": "https://localhost:8080/"
        },
        "id": "C2ZuhvioKbtk",
        "outputId": "320081d2-47ed-42d7-dbce-9340df07bf7e"
      },
      "source": [
        "def myFunction(): return True\n",
        "print(myFunction())"
      ],
      "execution_count": 13,
      "outputs": [
        {
          "output_type": "stream",
          "name": "stdout",
          "text": [
            "True\n"
          ]
        }
      ]
    },
    {
      "cell_type": "code",
      "metadata": {
        "colab": {
          "base_uri": "https://localhost:8080/"
        },
        "id": "nawutFN7I4cB",
        "outputId": "6f4e1a41-202d-4cf4-c9da-0dc4ed16dc1a"
      },
      "source": [
        "def myFunction():return True\n",
        "\n",
        "\n",
        "if myFunction():\n",
        "  print('Yes')\n",
        "else:\n",
        "  print('No')"
      ],
      "execution_count": 8,
      "outputs": [
        {
          "output_type": "stream",
          "name": "stdout",
          "text": [
            "Yes\n"
          ]
        }
      ]
    },
    {
      "cell_type": "markdown",
      "metadata": {
        "id": "E-XyQseqIA85"
      },
      "source": [
        "###Python Operators"
      ]
    },
    {
      "cell_type": "code",
      "metadata": {
        "id": "nt5PkEAs4ujP",
        "colab": {
          "base_uri": "https://localhost:8080/"
        },
        "outputId": "f32974e0-0285-4b4d-fa52-8f2b0d1e3b53"
      },
      "source": [
        "print(10+5)\n",
        "print(10-5)\n",
        "print(10*5)\n",
        "print(10/5)\n"
      ],
      "execution_count": 4,
      "outputs": [
        {
          "output_type": "stream",
          "name": "stdout",
          "text": [
            "15\n",
            "5\n",
            "50\n",
            "2.0\n"
          ]
        }
      ]
    },
    {
      "cell_type": "markdown",
      "metadata": {
        "id": "LDtVJ1DSMZXn"
      },
      "source": [
        "###Python Bitwise Operators"
      ]
    },
    {
      "cell_type": "code",
      "metadata": {
        "colab": {
          "base_uri": "https://localhost:8080/"
        },
        "id": "AOFd3FsTOlfF",
        "outputId": "546c988f-4228-470d-e921-ed299f6ad8ca"
      },
      "source": [
        "a=60 #(00111100)      # The bin() function is used to print in binary format.\n",
        "b=13 #(00001101)\n",
        "print(a|b)\n",
        "print(bin(a|b))"
      ],
      "execution_count": 44,
      "outputs": [
        {
          "output_type": "stream",
          "name": "stdout",
          "text": [
            "61\n",
            "0b111101\n"
          ]
        }
      ]
    },
    {
      "cell_type": "code",
      "metadata": {
        "colab": {
          "base_uri": "https://localhost:8080/"
        },
        "id": "LeoUMT9wRIv4",
        "outputId": "ebcd67f7-0f5b-42a3-9f2d-43142d549c85"
      },
      "source": [
        "a=60 #(00111100)    \n",
        "b=13 #(00001101)\n",
        "print(a^b)\n",
        "print(bin(a^b))"
      ],
      "execution_count": 46,
      "outputs": [
        {
          "output_type": "stream",
          "name": "stdout",
          "text": [
            "49\n",
            "0b110001\n"
          ]
        }
      ]
    },
    {
      "cell_type": "markdown",
      "metadata": {
        "id": "oEAgpNINYdAq"
      },
      "source": [
        "###Logical Operators"
      ]
    },
    {
      "cell_type": "code",
      "metadata": {
        "colab": {
          "base_uri": "https://localhost:8080/"
        },
        "id": "Szt8S32uYftB",
        "outputId": "8842fa39-7634-4257-d83e-39553270ded0"
      },
      "source": [
        "x = 5\n",
        "\n",
        "print(x > 3 and x < 10)"
      ],
      "execution_count": 72,
      "outputs": [
        {
          "output_type": "stream",
          "name": "stdout",
          "text": [
            "True\n"
          ]
        }
      ]
    },
    {
      "cell_type": "code",
      "metadata": {
        "colab": {
          "base_uri": "https://localhost:8080/"
        },
        "id": "D015l9g_Yo44",
        "outputId": "10f0325b-045b-46e2-8bc1-bf0438ccf9fd"
      },
      "source": [
        "x = 5\n",
        "\n",
        "print(x > 3 or x > 10)\n",
        "print(not(x > 3 or x > 10))"
      ],
      "execution_count": 77,
      "outputs": [
        {
          "output_type": "stream",
          "name": "stdout",
          "text": [
            "True\n",
            "False\n"
          ]
        }
      ]
    },
    {
      "cell_type": "markdown",
      "metadata": {
        "id": "fIMBC5K2SOPw"
      },
      "source": [
        "###Python Assignment Operators\n"
      ]
    },
    {
      "cell_type": "code",
      "metadata": {
        "colab": {
          "base_uri": "https://localhost:8080/"
        },
        "id": "jWiYoEpcSUi3",
        "outputId": "ae72b127-44c2-4d36-c897-c0205c3ea6b1"
      },
      "source": [
        "a=5\n",
        "a+=1\n",
        "print(a)\n",
        "b=2\n",
        "b-=2\n",
        "print(b)\n"
      ],
      "execution_count": 71,
      "outputs": [
        {
          "output_type": "stream",
          "name": "stdout",
          "text": [
            "6\n",
            "0\n"
          ]
        }
      ]
    },
    {
      "cell_type": "markdown",
      "metadata": {
        "id": "EzM0osjFTlNC"
      },
      "source": [
        "###Identity Operators"
      ]
    },
    {
      "cell_type": "code",
      "metadata": {
        "colab": {
          "base_uri": "https://localhost:8080/"
        },
        "id": "4XZl6rttTo4o",
        "outputId": "790bd82d-a009-41a4-c462-c5f92f51ce15"
      },
      "source": [
        "a=1\n",
        "b=2\n",
        "print(a is b)\n",
        "print( a is not b)"
      ],
      "execution_count": 63,
      "outputs": [
        {
          "output_type": "stream",
          "name": "stdout",
          "text": [
            "False\n",
            "True\n"
          ]
        }
      ]
    },
    {
      "cell_type": "code",
      "metadata": {
        "colab": {
          "base_uri": "https://localhost:8080/"
        },
        "id": "-ClSPsq_UAAK",
        "outputId": "6c4cf7f2-e9db-4896-f021-d9cb654166da"
      },
      "source": [
        "a='Happy'\n",
        "b= 'Sad'\n",
        "print(a is b)\n",
        "print(a is not b)"
      ],
      "execution_count": 65,
      "outputs": [
        {
          "output_type": "stream",
          "name": "stdout",
          "text": [
            "False\n",
            "True\n"
          ]
        }
      ]
    }
  ]
}